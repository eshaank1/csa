{
 "cells": [
  {
   "cell_type": "markdown",
   "metadata": {},
   "source": [
    "---\n",
    "comments: false\n",
    "layout: post\n",
    "title: HTML Hacks\n",
    "courses: { compsci: {week: 2} }\n",
    "type: hacks\n",
    "---"
   ]
  },
  {
   "cell_type": "code",
   "execution_count": 3,
   "metadata": {
    "vscode": {
     "languageId": "html"
    }
   },
   "outputs": [
    {
     "data": {
      "text/html": [
       "\n",
       "<head>\n",
       "    <meta charset=\"UTF-8\">\n",
       "    <meta name=\"viewport\" content=\"width=device-width, initial-scale=1.0\">\n",
       "    <style>\n",
       "        .container {\n",
       "            width: 80%;\n",
       "            margin: 0 auto;\n",
       "            border: 2px solid black;\n",
       "            padding: 10px;\n",
       "        }\n",
       "\n",
       "        p {\n",
       "            border: 2px solid red;\n",
       "            padding: 5px;\n",
       "            text-align: center;\n",
       "            margin-bottom: 10px;\n",
       "        }\n",
       "\n",
       "        button {\n",
       "            border: 2px solid green;\n",
       "            background-color: white;\n",
       "            color: green;\n",
       "            padding: 10px 20px;\n",
       "            font-size: 16px;\n",
       "            display: block;\n",
       "            margin: 10px auto;\n",
       "        }\n",
       "\n",
       "        a {\n",
       "            border: 2px solid blue;\n",
       "            display: block;\n",
       "            padding: 10px;\n",
       "            text-align: center;\n",
       "            text-decoration: none;\n",
       "            color: blue;\n",
       "            margin-bottom: 10px;\n",
       "        }\n",
       "\n",
       "        div.content {\n",
       "            font-weight: bold;\n",
       "            font-size: 24px;\n",
       "            text-align: center;\n",
       "            margin-bottom: 10px;\n",
       "        }\n",
       "    </style>\n",
       "</head>\n",
       "<body>\n",
       "    <div class=\"container\">\n",
       "        <p>Eshaan Kumar CS</p>\n",
       "        <button>Click Here</button>\n",
       "        <div class=\"content\">------</div>\n",
       "    </div>\n",
       "\n",
       "    <div class=\"container\">\n",
       "        <a href=\"https://eshaank1.github.io/csp/\">CSP</a>\n",
       "        <a href=\"https://eshaank1.github.io/csa/\">CSA</a>\n",
       "        <div class=\"content\">------</div>\n",
       "        <p>Thanks for looking</p>\n",
       "    </div>\n",
       "</body>\n"
      ],
      "text/plain": [
       "<IPython.core.display.HTML object>"
      ]
     },
     "metadata": {},
     "output_type": "display_data"
    }
   ],
   "source": [
    "%%html\n",
    "\n",
    "<head>\n",
    "    <meta charset=\"UTF-8\">\n",
    "    <meta name=\"viewport\" content=\"width=device-width, initial-scale=1.0\">\n",
    "    <style>\n",
    "        .container {\n",
    "            width: 80%;\n",
    "            margin: 0 auto;\n",
    "            border: 2px solid black;\n",
    "            padding: 10px;\n",
    "        }\n",
    "\n",
    "        p {\n",
    "            border: 2px solid red;\n",
    "            padding: 5px;\n",
    "            text-align: center;\n",
    "            margin-bottom: 10px;\n",
    "        }\n",
    "\n",
    "        button {\n",
    "            border: 2px solid green;\n",
    "            background-color: white;\n",
    "            color: green;\n",
    "            padding: 10px 20px;\n",
    "            font-size: 16px;\n",
    "            display: block;\n",
    "            margin: 10px auto;\n",
    "        }\n",
    "\n",
    "        a {\n",
    "            border: 2px solid blue;\n",
    "            display: block;\n",
    "            padding: 10px;\n",
    "            text-align: center;\n",
    "            text-decoration: none;\n",
    "            color: blue;\n",
    "            margin-bottom: 10px;\n",
    "        }\n",
    "\n",
    "        div.content {\n",
    "            font-weight: bold;\n",
    "            font-size: 24px;\n",
    "            text-align: center;\n",
    "            margin-bottom: 10px;\n",
    "        }\n",
    "    </style>\n",
    "</head>\n",
    "<body>\n",
    "    <div class=\"container\">\n",
    "        <p>Eshaan Kumar CS</p>\n",
    "        <button>Click Here</button>\n",
    "        <div class=\"content\">------</div>\n",
    "    </div>\n",
    "\n",
    "    <div class=\"container\">\n",
    "        <a href=\"https://eshaank1.github.io/csp/\">CSP</a>\n",
    "        <a href=\"https://eshaank1.github.io/csa/\">CSA</a>\n",
    "        <div class=\"content\">------</div>\n",
    "        <p>Thanks for looking</p>\n",
    "    </div>\n",
    "</body>\n"
   ]
  },
  {
   "cell_type": "markdown",
   "metadata": {},
   "source": [
    "<style> \n",
    "@import url('https://fonts.googleapis.com/css2?family=Roboto');\n",
    "h1{ text-align: center; font-size: 50px; color: #0352fc; font-family: 'Roboto', serif;}\n",
    "h2{ text-align: left; font-size: 18px; color: #0352fc;}\n",
    "body{ text-align: left; font-size: 15px; font-family: 'Roboto', serif; background: black; }\n",
    "</style>"
   ]
  }
 ],
 "metadata": {
  "kernelspec": {
   "display_name": "venv",
   "language": "python",
   "name": "python3"
  },
  "language_info": {
   "codemirror_mode": {
    "name": "ipython",
    "version": 3
   },
   "file_extension": ".py",
   "mimetype": "text/x-python",
   "name": "python",
   "nbconvert_exporter": "python",
   "pygments_lexer": "ipython3",
   "version": "3.10.12"
  }
 },
 "nbformat": 4,
 "nbformat_minor": 2
}

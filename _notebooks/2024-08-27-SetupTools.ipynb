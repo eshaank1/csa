{
 "cells": [
  {
   "cell_type": "markdown",
   "metadata": {},
   "source": [
    "---\n",
    "layout: post\n",
    "title: Tools Setup hacks\n",
    "type: issues\n",
    "---"
   ]
  },
  {
   "cell_type": "markdown",
   "metadata": {
    "vscode": {
     "languageId": "plaintext"
    }
   },
   "source": [
    "## Shell Commands\n",
    "\n",
    "- ```wsl``` to open my Ubuntu ecosystem in terminal\n",
    "- ```cd``` to change directories and get to /home/eshaan/vscode/csa\n",
    "- ```git push``` to push changes after I commit\n",
    "- ```apt install``` to install dependencies and packages I need\n",
    "- ```./``` to run a script from the portfolio_2025 directory and install my tools\n",
    "\n",
    "## Version Control\n",
    "- Files from GitHub placed on my machine by git pull, navigate these through ubuntu with cd for directory and code . to open in vscode\n",
    "- Files updated in GitHub as I make changes, commit, and push.  I navigate these files on the web interface for GitHub\n",
    "- git pull to update the template with Mr. Mort's changes\n",
    "- On my repo, update the template by changing _config.yml, Makefile, index.md, navigation files, and the theme/structure\n",
    "- I will add a time box because that is applicable for CSA and helps me organize my files\n",
    "\n",
    "## Localhost vs Deployed Server\n",
    "- Localhost is just on my machine, deployed server can be seen anywhere\n",
    "- Localhost URL: http://127.0.0.1:4100/csa/\n",
    "- Nobody else can see my changes\n",
    "- GitHub Pages URL: https://eshaank1.github.io/csa/\n",
    "- Deployed, world can see my changes\n",
    "\n",
    "## DNS and GitHub Pages\n",
    "- Yes, the domain on my GitHub Pages is where all my deployed pages are nested: eshaank1.github.io\n",
    "- Yes, my URL is different from others' because mine is specific to my github username eshaank1"
   ]
  },
  {
   "cell_type": "markdown",
   "metadata": {},
   "source": []
  }
 ],
 "metadata": {
  "kernelspec": {
   "display_name": "venv",
   "language": "python",
   "name": "python3"
  },
  "language_info": {
   "codemirror_mode": {
    "name": "ipython",
    "version": 3
   },
   "file_extension": ".py",
   "mimetype": "text/x-python",
   "name": "python",
   "nbconvert_exporter": "python",
   "pygments_lexer": "ipython3",
   "version": "3.10.12"
  }
 },
 "nbformat": 4,
 "nbformat_minor": 2
}

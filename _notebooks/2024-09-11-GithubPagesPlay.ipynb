{
 "cells": [
  {
   "cell_type": "markdown",
   "metadata": {},
   "source": [
    "---\n",
    "comments: true\n",
    "layout: post\n",
    "title: GitHub Pages Playground Hacks\n",
    "courses: { compsci: {week: 2} }\n",
    "type: hacks\n",
    "---"
   ]
  },
  {
   "cell_type": "markdown",
   "metadata": {},
   "source": [
    "## GitHub Pages Hacks\n",
    "\n",
    "Enhance or update your GitHub Pages using your new knowledge from Previous Hacks.\n",
    "\n",
    "- index.md pictures and player picker\n",
    "\n",
    "- index.md notebook menu\n",
    "\n",
    "- Planning vs Acomplishment for iTunes Song Search\n",
    "\n",
    "- HTML Hacks JS Cell\n",
    "\n",
    "- About Page\n",
    "\n",
    "## Theme Hacks\n",
    "\n",
    "- Change button theme switcher, equal functionality\n",
    "\n",
    "## Jekyll and Liquid Hack\n",
    "\n",
    "- My theme on blogs\n",
    "\n",
    "## Utterances Hacks\n",
    "\n",
    "- Show my 5 utterances"
   ]
  },
  {
   "cell_type": "markdown",
   "metadata": {},
   "source": [
    "<style> \n",
    "@import url('https://fonts.googleapis.com/css2?family=Roboto');\n",
    "h1{ text-align: center; font-size: 50px; color: #0352fc; font-family: 'Roboto', serif;}\n",
    "h2{ text-align: left; font-size: 18px; color: #0352fc;}\n",
    "body{ text-align: left; font-size: 15px; font-family: 'Roboto', serif; background: black; }\n",
    "</style>"
   ]
  }
 ],
 "metadata": {
  "language_info": {
   "name": "python"
  }
 },
 "nbformat": 4,
 "nbformat_minor": 2
}

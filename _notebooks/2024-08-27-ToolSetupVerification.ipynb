{
 "cells": [
  {
   "cell_type": "markdown",
   "metadata": {},
   "source": [
    "---\n",
    "comments: true\n",
    "layout: post\n",
    "title: Tool Setup/Verification Hacks\n",
    "courses: { compsci: {week: 1} }\n",
    "type: hacks\n",
    "---"
   ]
  },
  {
   "cell_type": "markdown",
   "metadata": {
    "vscode": {
     "languageId": "plaintext"
    }
   },
   "source": [
    "## Shell Commands\n",
    "\n",
    "- ```wsl``` to open my Ubuntu ecosystem in terminal\n",
    "- ```cd``` to change directories and get to /home/eshaan/vscode/csa\n",
    "- ```git push``` to push changes after I commit\n",
    "- ```apt install``` to install dependencies and packages I need\n",
    "- ```./``` to run a script from the portfolio_2025 directory and install my tools\n",
    "\n",
    "## Version Control\n",
    "- Files from GitHub placed on my machine by git pull, navigate these through ubuntu with cd for directory and code . to open in vscode\n",
    "- Files updated in GitHub as I make changes, commit, and push.  I navigate these files on the web interface for GitHub\n",
    "- git pull to update the template with Mr. Mort's changes\n",
    "- On my repo, update the template by changing _config.yml, Makefile, index.md, navigation files, and the theme/structure\n",
    "- I will add a time box because that is applicable for CSA and helps me organize my files\n",
    "\n",
    "## Localhost vs Deployed Server\n",
    "- Localhost is just on my machine, deployed server can be seen anywhere\n",
    "- Localhost URL: http://127.0.0.1:4100/csa/\n",
    "- Nobody else can see my changes\n",
    "- GitHub Pages URL: https://eshaank1.github.io/csa/\n",
    "- Deployed, world can see my changes\n",
    "\n",
    "## DNS and GitHub Pages\n",
    "- Yes, the domain on my GitHub Pages is where all my deployed pages are nested: eshaank1.github.io\n",
    "- Yes, my URL is different from others' because mine is specific to my github username eshaank1"
   ]
  },
  {
   "cell_type": "markdown",
   "metadata": {},
   "source": [
    "## Tool Check\n",
    "- All tools working\n",
    "- No issues encountered, all installation commands and scripts worked properly\n",
    "\n",
    "Git Version\n",
    "```\n",
    "Input: git --version\n",
    "Output: git version 2.34.1\n",
    "```\n",
    "\n",
    "Ruby Version\n",
    "```\n",
    "Input: ruby --version\n",
    "Output: ruby 3.0.2p107 (2021-07-07 revision 0db68f0233) [x86_64-linux-gnu]\n",
    "```\n",
    "\n",
    "Python Version\n",
    "```\n",
    "Input: python --version\n",
    "Output: Python 3.10.12\n",
    "```\n",
    "\n",
    "Jupyter Kernels:\n",
    "```\n",
    "Input: jupyter kernelspec list\n",
    "Output: Available kernels:\n",
    "  python3    /home/eshaan/vscode/csa/venv/share/jupyter/kernels/python3\n",
    "```\n",
    "\n",
    "Verify GitHub config:\n",
    "```\n",
    "Input: git config --global --list\n",
    "Output: user.email=kumeshsd@gmail.com\n",
    "user.name=eshaank1\n",
    "```\n",
    "\n",
    "Verify enviornment variables:\n",
    "```\n",
    "(venv) eshaan@EshaansLaptop:~/vscode/csa$ echo $project_dir\n",
    "/home/eshaan/vscode/\n",
    "(venv) eshaan@EshaansLaptop:~/vscode/csa$ echo $project\n",
    "/home/eshaan/vscode/csa\n",
    "(venv) eshaan@EshaansLaptop:~/vscode/csa$ echo $posts\n",
    "/home/eshaan/vscode/csa/_posts\n",
    "(venv) eshaan@EshaansLaptop:~/vscode/csa$ echo $notebooks \n",
    "/home/eshaan/vscode/csa/_notebooks  \n",
    "(venv) eshaan@EshaansLaptop:~/vscode/csa$ echo $project_repo \n",
    "https://github.com/eshaank1/csa.git\n",
    "```"
   ]
  },
  {
   "cell_type": "markdown",
   "metadata": {},
   "source": [
    "## Editing index.md\n",
    "- Added my homepage picture from CSP\n",
    "- Added a button to pick a steelers player and display\n",
    "    - Ran into errors here with the color of text not showing up\n",
    "    - Fix was using yellow in the CSS style code, found by researching my issue on ChatGPT and StackOverflow\n",
    "\n",
    "## Ideation Process\n",
    "- Come up with idea: steelers player picker\n",
    "- Implement idea with CSS code prep for button and text\n",
    "- Test on localhost with make\n",
    "- Saw failure on text color, researched bugs on ChatGPT and StackOverflow\n",
    "- Found fix and implemented in CSS style code\n",
    "- Tested again on localhost with make\n",
    "- Saw success, committed and pushed to GitHub repo\n",
    "- Tested on deployed site, works"
   ]
  },
  {
   "cell_type": "markdown",
   "metadata": {},
   "source": [
    "<style> \n",
    "@import url('https://fonts.googleapis.com/css2?family=Roboto');\n",
    "h1{ text-align: center; font-size: 50px; color: #0352fc; font-family: 'Roboto', serif;}\n",
    "h2{ text-align: left; font-size: 18px; color: #0352fc;}\n",
    "body{ text-align: left; font-size: 15px; font-family: 'Roboto', serif; background: black; }\n",
    "</style>"
   ]
  }
 ],
 "metadata": {
  "kernelspec": {
   "display_name": "venv",
   "language": "python",
   "name": "python3"
  },
  "language_info": {
   "codemirror_mode": {
    "name": "ipython",
    "version": 3
   },
   "file_extension": ".py",
   "mimetype": "text/x-python",
   "name": "python",
   "nbconvert_exporter": "python",
   "pygments_lexer": "ipython3",
   "version": "3.10.12"
  }
 },
 "nbformat": 4,
 "nbformat_minor": 2
}

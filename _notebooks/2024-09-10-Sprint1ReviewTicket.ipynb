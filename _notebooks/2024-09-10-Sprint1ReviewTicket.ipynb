{
 "cells": [
  {
   "cell_type": "markdown",
   "metadata": {},
   "source": [
    "---\n",
    "comments: true\n",
    "layout: post\n",
    "title: Sprint 1 Review Ticket\n",
    "courses: { compsci: {week: 2} }\n",
    "type: tangibles\n",
    "---"
   ]
  },
  {
   "cell_type": "markdown",
   "metadata": {},
   "source": [
    "[Laptop Verification or Cloud Workspace](https://eshaank1.github.io/csa//2024/08/27/ToolSetupVerification_IPYNB_2_.html)\n",
    "\n",
    "VSCode Demonstrate\n",
    "\n",
    "Show VSCode GitLens Demonstrate\n",
    "\n",
    "[GitHub student_2025 repo](https://github.com/eshaank1/csa)\n",
    "\n",
    "[GitHub Pages Actions](https://github.com/eshaank1/csa/actions)\n",
    "\n",
    "[Hacks Tools & Equipment Play](https://eshaank1.github.io/csa//2024/09/11/ToolsEquipmentPlay_IPYNB_2_.html)\n",
    "\n",
    "[Hacks GitHub Pages Playground](https://eshaank1.github.io/csa//2024/09/11/GithubPagesPlay_IPYNB_2_.html)\n",
    "\n",
    "[Hacks SASS Basics](https://eshaank1.github.io/csa//2024/09/12/SASSBasics_IPYNB_2_.html)\n",
    "\n",
    "[Hacks Frontend](https://eshaank1.github.io/csa//2024/09/12/HTMLBasics_IPYNB_2_.html)\n",
    "\n",
    "[Pair Programming](https://eshaank1.github.io/csa//2024/09/10/SongSearch.html)"
   ]
  },
  {
   "cell_type": "markdown",
   "metadata": {},
   "source": [
    "<style> \n",
    "@import url('https://fonts.googleapis.com/css2?family=Roboto');\n",
    "h1{ text-align: center; font-size: 50px; color: #0352fc; font-family: 'Roboto', serif;}\n",
    "h2{ text-align: left; font-size: 18px; color: #0352fc;}\n",
    "body{ text-align: left; font-size: 15px; font-family: 'Roboto', serif; background: black; }\n",
    "</style>"
   ]
  }
 ],
 "metadata": {
  "language_info": {
   "name": "python"
  }
 },
 "nbformat": 4,
 "nbformat_minor": 2
}

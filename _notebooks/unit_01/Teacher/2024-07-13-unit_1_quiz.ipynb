{
 "cells": [
  {
   "cell_type": "raw",
   "metadata": {
    "vscode": {
     "languageId": "raw"
    }
   },
   "source": [
    "---\n",
    "layout: post\n",
    "title: Quiz Questions for APCSA Unit 1\n",
    "description: Questions and Code Cells for the Quiz on Unit 1\n",
    "categories: [CSA-Quiz]\n",
    "permalink: /csa/units/quiz1\n",
    "menu: nav/CSA_Units/csa_unit1.html\n",
    "author: Soham Kamat & Aniket Chakradeo\n",
    "---"
   ]
  },
  {
   "cell_type": "markdown",
   "metadata": {},
   "source": [
    "## Unit 1: Primitive Types"
   ]
  },
  {
   "cell_type": "markdown",
   "metadata": {},
   "source": [
    "### Question 1\n",
    "\n",
    "Which of the following is a valid declaration of a variable of type int in Java?<br>\n",
    "a) int 123variable;<br>\n",
    "b) int variable123;<br>\n",
    "c) int variable#123;<br>\n",
    "d) int variable 123;\n",
    "\n",
    "Answer: b) int variable123;\n"
   ]
  },
  {
   "cell_type": "code",
   "execution_count": null,
   "metadata": {
    "vscode": {
     "languageId": "java"
    }
   },
   "outputs": [],
   "source": [
    "// Q1 Hack: Define variables according to Java naming conventions.\n",
    "// For instance, is it snake_case, camelCase, or PascalCase?\n",
    "\n",
    "int variable123 = 123;\n",
    "System.out.println(variable123);"
   ]
  },
  {
   "cell_type": "markdown",
   "metadata": {},
   "source": [
    "### Question 2\n",
    "\n",
    "What is the value of the following expression in Java: 5 / 2?<br>\n",
    "a) 2.5<br>\n",
    "b) 3<br>\n",
    "c) 2<br>\n",
    "d) 2.0\n",
    "\n",
    "Answer: c) 2\n"
   ]
  },
  {
   "cell_type": "code",
   "execution_count": 2,
   "metadata": {
    "vscode": {
     "languageId": "java"
    }
   },
   "outputs": [
    {
     "name": "stdout",
     "output_type": "stream",
     "text": [
      "Integer division 10 / 3 = 3\n",
      "Floating point division 10.0 / 3.0 = 3.3333333333333335\n"
     ]
    }
   ],
   "source": [
    "// Q2.1 Hack: Show in code difference between integer and floating point division.\n",
    "// Q2.2 Hack: Show in code the differnt number types in Java and how they behave.\n",
    "// Behave means definition and assignment.\n",
    "\n",
    "public class DivisionExample {\n",
    "    public static void main(String[] args) {\n",
    "        // Integer division\n",
    "        int a = 10;\n",
    "        int b = 3;\n",
    "        int intResult = a / b; // Integer division truncates result\n",
    "        System.out.println(\"Integer division 10 / 3 = \" + intResult); // Output: 3\n",
    "\n",
    "        // Floating point division\n",
    "        double x = 10.0;\n",
    "        double y = 3.0;\n",
    "        double floatResult = x / y; // Floating point division preserves decimal\n",
    "        System.out.println(\"Floating point division 10.0 / 3.0 = \" + floatResult); // Output: 3.33333...\n",
    "    }\n",
    "}\n",
    "\n",
    "DivisionExample.main(null);"
   ]
  },
  {
   "cell_type": "code",
   "execution_count": 1,
   "metadata": {
    "vscode": {
     "languageId": "java"
    }
   },
   "outputs": [
    {
     "name": "stdout",
     "output_type": "stream",
     "text": [
      "byte: 127\n",
      "short: 32767\n",
      "int: 2147483647\n",
      "long: 9223372036854775807\n",
      "float: 3.14\n",
      "double: 3.141592653589793\n",
      "char: A\n",
      "boolean: true\n"
     ]
    }
   ],
   "source": [
    "public class NumberTypesExample {\n",
    "    public static void main(String[] args) {\n",
    "        // 1. byte: 8-bit integer (range: -128 to 127)\n",
    "        byte byteVar = 127;\n",
    "        System.out.println(\"byte: \" + byteVar);\n",
    "\n",
    "        // 2. short: 16-bit integer (range: -32,768 to 32,767)\n",
    "        short shortVar = 32767;\n",
    "        System.out.println(\"short: \" + shortVar);\n",
    "\n",
    "        // 3. int: 32-bit integer (range: -2^31 to 2^31 - 1)\n",
    "        int intVar = 2147483647;\n",
    "        System.out.println(\"int: \" + intVar);\n",
    "\n",
    "        // 4. long: 64-bit integer (range: -2^63 to 2^63 - 1)\n",
    "        long longVar = 9223372036854775807L; // Note the 'L' at the end\n",
    "        System.out.println(\"long: \" + longVar);\n",
    "\n",
    "        // 5. float: 32-bit floating point (less precision, 6-7 decimal digits)\n",
    "        float floatVar = 3.14f; // Note the 'f' at the end\n",
    "        System.out.println(\"float: \" + floatVar);\n",
    "\n",
    "        // 6. double: 64-bit floating point (more precision, 15-16 decimal digits)\n",
    "        double doubleVar = 3.141592653589793;\n",
    "        System.out.println(\"double: \" + doubleVar);\n",
    "\n",
    "        // 7. char: 16-bit character\n",
    "        char charVar = 'A';\n",
    "        System.out.println(\"char: \" + charVar);\n",
    "\n",
    "        // 8. boolean: true or false\n",
    "        boolean boolVar = true;\n",
    "        System.out.println(\"boolean: \" + boolVar);\n",
    "    }\n",
    "}\n",
    "\n",
    "NumberTypesExample.main(null);"
   ]
  },
  {
   "cell_type": "markdown",
   "metadata": {
    "vscode": {
     "languageId": "raw"
    }
   },
   "source": [
    "### Question 3\n",
    "\n",
    "Which primitive type is used to represent a single character in Java?<br>\n",
    "a) char<br>\n",
    "b) String<br>\n",
    "c) int<br>\n",
    "d) byte\n",
    "\n",
    "Answer: a) char"
   ]
  },
  {
   "cell_type": "code",
   "execution_count": 4,
   "metadata": {
    "vscode": {
     "languageId": "java"
    }
   },
   "outputs": [
    {
     "name": "stdout",
     "output_type": "stream",
     "text": [
      "char: A\n",
      "char (ASCII): A\n",
      "boolean true: true\n",
      "boolean false: false\n"
     ]
    }
   ],
   "source": [
    "// Q3.1 Hack: Show in code all the the non-number Java primitive data types and how they behave.\n",
    "// Q3.2 Hack: Show in code the String data type and how it behaves.\n",
    "\n",
    "public class NonNumberPrimitives {\n",
    "    public static void main(String[] args) {\n",
    "        // char: Holds a single character, enclosed in single quotes\n",
    "        char charVar = 'A';\n",
    "        System.out.println(\"char: \" + charVar);  // Output: A\n",
    "\n",
    "        // char can also store ASCII values\n",
    "        char charAscii = 65;  // ASCII value of 'A' is 65\n",
    "        System.out.println(\"char (ASCII): \" + charAscii);  // Output: A\n",
    "\n",
    "        // boolean: Holds true or false values\n",
    "        boolean boolVarTrue = true;\n",
    "        boolean boolVarFalse = false;\n",
    "        System.out.println(\"boolean true: \" + boolVarTrue);  // Output: true\n",
    "        System.out.println(\"boolean false: \" + boolVarFalse);  // Output: false\n",
    "    }\n",
    "}\n",
    "\n",
    "NonNumberPrimitives.main(null);"
   ]
  },
  {
   "cell_type": "code",
   "execution_count": 6,
   "metadata": {
    "vscode": {
     "languageId": "java"
    }
   },
   "outputs": [
    {
     "name": "stdout",
     "output_type": "stream",
     "text": [
      "String: Hello, World!\n",
      "Concatenated String: Hello, Alice!\n",
      "Length of String: 13\n",
      "Are strings equal? false\n",
      "Substring: World\n"
     ]
    }
   ],
   "source": [
    "public class StringExample {\n",
    "    public static void main(String[] args) {\n",
    "        // Creating a String\n",
    "        String myString = \"Hello, World!\";\n",
    "        System.out.println(\"String: \" + myString);  // Output: Hello, World!\n",
    "\n",
    "        // String concatenation\n",
    "        String greeting = \"Hello\";\n",
    "        String name = \"Alice\";\n",
    "        String combined = greeting + \", \" + name + \"!\";\n",
    "        System.out.println(\"Concatenated String: \" + combined);  // Output: Hello, Alice!\n",
    "\n",
    "        // String length\n",
    "        System.out.println(\"Length of String: \" + myString.length());  // Output: 13\n",
    "\n",
    "        // String comparison\n",
    "        String str1 = \"apple\";\n",
    "        String str2 = \"orange\";\n",
    "        System.out.println(\"Are strings equal? \" + str1.equals(str2));  // Output: false\n",
    "\n",
    "        // String substring\n",
    "        String subStr = myString.substring(7, 12);\n",
    "        System.out.println(\"Substring: \" + subStr);  // Output: World\n",
    "    }\n",
    "}\n",
    "\n",
    "StringExample.main(null);"
   ]
  },
  {
   "cell_type": "markdown",
   "metadata": {},
   "source": [
    "### Question 4\n",
    "\n",
    "Answer the following questions based on the code cell:\n",
    "* a) What kind of types are person1 and person2? \n",
    "* Answer: reference types\n",
    "* b) Do person1 and person3 point to the same value in memory?\n",
    "* Answer: yes\n",
    "* c) Is the integer \"number\" stored in the heap or in the stack?\n",
    "* Answer: stack\n",
    "* d) Is the value that \"person1\" points to stored in the heap or in the stack?\n",
    "* Answer: heap"
   ]
  },
  {
   "cell_type": "code",
   "execution_count": null,
   "metadata": {
    "vscode": {
     "languageId": "java"
    }
   },
   "outputs": [],
   "source": [
    "public class Person {\n",
    "    String name;\n",
    "    int age;\n",
    "    int height;\n",
    "    String job;\n",
    "\n",
    "    public Person(String name, int age, int height, String job) {\n",
    "        this.name = name;\n",
    "        this.age = age;\n",
    "        this.height = height;\n",
    "        this.job = job;\n",
    "    }\n",
    "}\n",
    "\n",
    "public static void main(String[] args) {\n",
    "    Person person1 = new Person(\"Carl\", 25, 165, \"Construction Worker\");\n",
    "    Person person2 = new Person(\"Adam\", 29, 160, \"Truck Driver\");\n",
    "    Person person3 = person1;\n",
    "    int number = 16;\n",
    "    System.out.println(number);\n",
    "}\n",
    "main(null); // This is required in Jupiter Notebook to run the main method."
   ]
  },
  {
   "cell_type": "markdown",
   "metadata": {},
   "source": [
    "### Question 5 \n",
    "\n",
    "(a) Define primitive types and reference types in Java. The application is for banking, where you need to represent customer information.\n",
    "\n",
    "(b) Add comments for primitive types and reference types. In terms of memory allocation, discuss concepts like instance, stack, and heap where it adds value.\n",
    "\n",
    "(c) To assist in requirements, here are some required elements:\n",
    "- Create multiple customers from the `public class Account`.\n",
    "- Consider key class variables that a Bank may require: `name`, `balance`, `accountNumber`.\n",
    "- Create a two argument constructor using `name` and `balance`.\n",
    "- Consider in constructor how you will create a unique account number using `static int lastAccountNumber`\n",
    "- Define a method `calculateInterest` that works with getting and setting `double balance` using `private static double interestRate`."
   ]
  },
  {
   "cell_type": "markdown",
   "metadata": {},
   "source": [
    "Primitive Types: These are the most basic data types built into Java. They include int, float, char, boolean, etc., and represent single values. Primitive types are stored directly in the stack and do not reference objects or classes. In a banking application, primitive types could be used for simple data like account balances, interest rates, or account numbers.\n",
    "\n",
    "Reference Types: These refer to objects or instances of classes. Instead of holding a value directly, they store a reference (memory address) to the actual object located in the heap. Reference types include objects created from classes, arrays, and even strings. In banking, reference types would be used for customer information (e.g., a Customer class or Account class), which includes multiple fields and behaviors."
   ]
  },
  {
   "cell_type": "code",
   "execution_count": 8,
   "metadata": {
    "vscode": {
     "languageId": "java"
    }
   },
   "outputs": [],
   "source": [
    "// Account class to represent customer information in a banking system\n",
    "public class Account {\n",
    "    // Primitive types: Stored in stack\n",
    "    private static double interestRate = 0.05; // Static interest rate shared among all accounts\n",
    "    private static int lastAccountNumber = 1000; // Used to generate unique account numbers\n",
    "\n",
    "    // Reference types: Stored in heap (objects)\n",
    "    private String name; // Name of the account holder\n",
    "    private int accountNumber; // Unique account number for the account holder\n",
    "    private double balance; // Current account balance\n",
    "\n",
    "    // Constructor to create a new account with a name and initial balance\n",
    "    public Account(String name, double balance) {\n",
    "        this.name = name;\n",
    "        this.balance = balance;\n",
    "        // Automatically assign a unique account number\n",
    "        this.accountNumber = ++lastAccountNumber;\n",
    "    }\n",
    "\n",
    "    // Getter for account balance\n",
    "    public double getBalance() {\n",
    "        return balance;\n",
    "    }\n",
    "\n",
    "    // Setter for account balance\n",
    "    public void setBalance(double balance) {\n",
    "        this.balance = balance;\n",
    "    }\n",
    "\n",
    "    // Method to calculate interest and update the account balance\n",
    "    public void calculateInterest() {\n",
    "        double interest = this.balance * interestRate; // Calculate interest based on balance\n",
    "        this.balance += interest; // Update the balance with the interest\n",
    "    }\n",
    "\n",
    "    // Method to display account information\n",
    "    public void displayAccountInfo() {\n",
    "        System.out.println(\"Account Holder: \" + this.name);\n",
    "        System.out.println(\"Account Number: \" + this.accountNumber);\n",
    "        System.out.println(\"Current Balance: $\" + this.balance);\n",
    "    }\n",
    "\n",
    "    public static void main(String[] args) {\n",
    "        // Creating multiple customers (Account objects)\n",
    "\n",
    "        // Customer 1: Reference type stored in heap\n",
    "        Account customer1 = new Account(\"John Doe\", 1000.0);\n",
    "        customer1.displayAccountInfo();\n",
    "        customer1.calculateInterest();\n",
    "        System.out.println(\"Balance after interest: $\" + customer1.getBalance());\n",
    "\n",
    "        // Customer 2: Reference type stored in heap\n",
    "        Account customer2 = new Account(\"Jane Smith\", 2000.0);\n",
    "        customer2.displayAccountInfo();\n",
    "        customer2.calculateInterest();\n",
    "        System.out.println(\"Balance after interest: $\" + customer2.getBalance());\n",
    "    }\n",
    "}"
   ]
  }
 ],
 "metadata": {
  "kernelspec": {
   "display_name": "Java",
   "language": "java",
   "name": "java"
  },
  "language_info": {
   "codemirror_mode": "java",
   "file_extension": ".jshell",
   "mimetype": "text/x-java-source",
   "name": "Java",
   "pygments_lexer": "java",
   "version": "17.0.12+7-Ubuntu-1ubuntu222.04"
  }
 },
 "nbformat": 4,
 "nbformat_minor": 2
}

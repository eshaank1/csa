{
 "cells": [
  {
   "cell_type": "markdown",
   "metadata": {},
   "source": [
    "---\n",
    "comments: true\n",
    "layout: post\n",
    "title: SASS Hacks\n",
    "courses: { compsci: {week: 2} }\n",
    "type: hacks \n",
    "---"
   ]
  },
  {
   "cell_type": "markdown",
   "metadata": {},
   "source": [
    "## Changes Made\n",
    "\n",
    "- Colors are now rgb values of different colors instead of the named ones\n",
    "\n",
    "- Thicker border on the buttons\n",
    "\n",
    "## Questions\n",
    "\n",
    "- _mixins.scss file is used as a template for the buttons on the calculator\n",
    "\n",
    "- The code defines a calculator button and sets it to the include button styling from the _mixins.scss file.  It is referenced in HTML in the calculator file.\n",
    "\n",
    "- The button is reused in HTML but calls from SASS"
   ]
  },
  {
   "cell_type": "markdown",
   "metadata": {},
   "source": [
    "<style> \n",
    "@import url('https://fonts.googleapis.com/css2?family=Roboto');\n",
    "h1{ text-align: center; font-size: 50px; color: #0352fc; font-family: 'Roboto', serif;}\n",
    "h2{ text-align: left; font-size: 18px; color: #0352fc;}\n",
    "body{ text-align: left; font-size: 15px; font-family: 'Roboto', serif; background: black; }\n",
    "</style>"
   ]
  }
 ],
 "metadata": {
  "language_info": {
   "name": "python"
  }
 },
 "nbformat": 4,
 "nbformat_minor": 2
}

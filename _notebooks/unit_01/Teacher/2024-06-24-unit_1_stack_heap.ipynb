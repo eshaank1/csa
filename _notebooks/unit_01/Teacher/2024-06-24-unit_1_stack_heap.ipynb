{
 "cells": [
  {
   "cell_type": "raw",
   "metadata": {
    "vscode": {
     "languageId": "raw"
    }
   },
   "source": [
    "---\n",
    "layout: post\n",
    "toc: true\n",
    "title: Unit 1 - Stack & Heap Memory \n",
    "description: An overview of stack and heap memory in Java\n",
    "authors: Aniket Chakradeo, Soham Kamat\n",
    "menu: nav/CSA_Units/csa_unit1.html\n",
    "permalink: /csa/unit1/stack_heap\n",
    "---"
   ]
  },
  {
   "cell_type": "markdown",
   "metadata": {},
   "source": [
    "## Memory Allocation: Stack and Heap\n",
    "\n",
    "In Java, memory allocation for variables occurs in two main areas: the stack and the heap."
   ]
  },
  {
   "cell_type": "markdown",
   "metadata": {},
   "source": [
    "### Stack Memory\n",
    "\n",
    "Stack memory is a region of memory that stores temporary variables created by each function (including the main function). It is managed by the execution stack and follows a last-in-first-out (LIFO) order.\n",
    "\n",
    "- Stores primitive data types and references to objects.\n",
    "- Memory is allocated in a last-in-first-out (LIFO) manner.\n",
    "- Each thread has its own stack, ensuring thread safety.\n",
    "\n",
    "Example:\n",
    "```java\n",
    "int number = 100; // Stored in the stack\n",
    "```\n",
    "\n",
    "\n",
    "#### Stack Variables Tips\n",
    "\n",
    "College Board often asks questions about stack usage.\n",
    "\n",
    "- Since primitives are always on the stack, they point directly to the content. This is best observed in a debugger.\n",
    "- A reference type contains an address to the content on the stack.\n",
    "- Passing a stack variable to a method creates a copy of the content of that variable.\n",
    "- Changes to the content of a primitive type will not return back to the method caller; this is called pass-by-value.\n",
    "- Since a reference type contains an address to the heap, the reference is copied when calling a method. This is called pass-by-reference, as data type changes are then performed according to the reference.\n"
   ]
  },
  {
   "cell_type": "markdown",
   "metadata": {},
   "source": [
    "### Heap Memory\n",
    "\n",
    "Heap memory is a region of memory used for dynamic memory allocation. It is managed by Java's memory management system.\n",
    "\n",
    "- Used for storing objects and arrays.\n",
    "- Shared among all threads, requiring synchronization for thread safety.\n",
    "- Managed by the garbage collector, which reclaims memory when objects are no longer in use.\n",
    "\n",
    "Example:\n",
    "```java\n",
    "// Long form showing new\n",
    "String message = new String(\"Hello\");\n",
    "\n",
    "// Short form Java performs new find the scenes\n",
    "String message = \"Hello\";\n",
    "```\n",
    "\n",
    "### Heap Variables Tips\n",
    "\n",
    "- Heap variables stay alive as long as a stack variable points to them.\n",
    "- By nature, all reference data types refer to an address on the stack but change content on the heap.\n",
    "- Objects created in the heap are globally accessible and can be shared among multiple methods, this creates concurrency issues when programming.\n",
    "- The garbage collector automatically reclaims memory from objects that are no longer referenced, helping to prevent memory leaks."
   ]
  },
  {
   "cell_type": "markdown",
   "metadata": {},
   "source": [
    "## Popcorn Hack: literal vs input\n",
    "\n",
    "A value that is directly in code is called a literal.  Often developers will say this value is hard coded value.\n",
    "- Literal: In source code representation of a fixed value, e.g. 17. A hard coded number.\n",
    "- String Literal: In sourced code set of letters within quotes, e.g. \"blue\", A hard coded string.\n",
    "\n",
    "Q1: Define some literal data.\n",
    "Q2: Obtain that data from input versus hard coded."
   ]
  },
  {
   "cell_type": "code",
   "execution_count": null,
   "metadata": {},
   "outputs": [],
   "source": [
    "// Hard code literal values\n",
    "\n",
    "int literalAge = 17;\n",
    "String literalFavoriteColor = \"blue\";"
   ]
  },
  {
   "cell_type": "code",
   "execution_count": null,
   "metadata": {},
   "outputs": [],
   "source": [
    "// Input your age\n",
    "Scanner scanObj = new Scanner(System.in);  // Create a Scanner object\n",
    "System.out.println(\"Enter age\");\n",
    "int inputAge = scanObj.nextInt();  // Read user input\n",
    "System.out.println(\"My Age is: \" + inputAge);  // Output user input"
   ]
  },
  {
   "cell_type": "markdown",
   "metadata": {},
   "source": [
    "Q1: Literal data are to values directly written into the code. For example, 17 is a literal integer, and \"blue\" is a literal string."
   ]
  },
  {
   "cell_type": "code",
   "execution_count": null,
   "metadata": {},
   "outputs": [],
   "source": [
    "import java.util.Scanner;\n",
    "\n",
    "public class Main {\n",
    "    public static void main(String[] args) {\n",
    "        // Hard code literal values\n",
    "        int literalAge = 17;\n",
    "        String literalFavoriteColor = \"blue\";\n",
    "        \n",
    "        // Output hard-coded literals\n",
    "        System.out.println(\"Literal Age: \" + literalAge);\n",
    "        System.out.println(\"Literal Favorite Color: \" + literalFavoriteColor);\n",
    "\n",
    "        // Input your age\n",
    "        Scanner scanObj = new Scanner(System.in);  // Create a Scanner object\n",
    "        System.out.println(\"Enter your age: \");\n",
    "        int inputAge = scanObj.nextInt();  // Read user input\n",
    "\n",
    "        // Input your favorite color\n",
    "        System.out.println(\"Enter your favorite color: \");\n",
    "        String inputFavoriteColor = scanObj.next();  // Read user input\n",
    "        \n",
    "        // Output user input\n",
    "        System.out.println(\"My Age is: \" + inputAge);  \n",
    "        System.out.println(\"My Favorite Color is: \" + inputFavoriteColor);\n",
    "        \n",
    "        scanObj.close(); // Close the scanner to prevent resource leaks\n",
    "    }\n",
    "}\n",
    "\n",
    "Main.main(null);"
   ]
  },
  {
   "cell_type": "markdown",
   "metadata": {},
   "source": [
    "## Popcorn Hack: pass-by-value, pass-by-reference\n",
    "For College Articulation in Data Structures and College Board AP Exam you will need to understand pass-by-value and pass-br-reference.  \n",
    "\n",
    "- If you pass primitives to a method they WILL NOT change the callers value.\n",
    "- If you wrap the primitive in a refrence type, in the example below using a class, then you can change the original.\n",
    "\n",
    "Q1: Describe approache difference between IntByValue and IntByReference.\n",
    "Q2: Try to make a changeInt method that change would persist after it is called.  Be careful, this will require a change in approach. "
   ]
  },
  {
   "cell_type": "code",
   "execution_count": null,
   "metadata": {},
   "outputs": [],
   "source": [
    "public class IntByValue {\n",
    "    \n",
    "    public static void changeInt(int n) {\n",
    "        System.out.println(\"In changeInt method\");\n",
    "        System.out.println(\"\\tBefore n += 10: n = \" + n); // prints 5\n",
    "        n = n += 10;\n",
    "        System.out.println(\"\\tAfter n += 10: n = \" + n); // prints 10\n",
    "    }\n",
    "\n",
    "    public static void main(String[] args) {\n",
    "        int n = 5;\n",
    "        System.out.println(\"Main method before changeInt(n): n = \" + n); // prints 5\n",
    "        changeInt(n);\n",
    "        System.out.println(\"Main method after changeInt(n): n = \" + n); // still prints 5\n",
    "    }\n",
    "}\n",
    "IntByValue.main(null);"
   ]
  },
  {
   "cell_type": "code",
   "execution_count": null,
   "metadata": {},
   "outputs": [],
   "source": [
    "public class IntByReference {\n",
    "    private int value;\n",
    "\n",
    "    public IntByReference(Integer value) {\n",
    "        this.value = value;\n",
    "    }\n",
    "\n",
    "    public String toString() {\n",
    "        return (String.format(\"%d\", this.value));\n",
    "    }\n",
    "\n",
    "    public void swapToLowHighOrder(IntByReference i) {\n",
    "        if (this.value > i.value) {\n",
    "            int tmp = this.value;\n",
    "            this.value = i.value;\n",
    "            i.value = tmp;\n",
    "        }\n",
    "    }\n",
    "\n",
    "    public static void swapper(int n0, int n1) {\n",
    "        IntByReference a = new IntByReference(n0);\n",
    "        IntByReference b = new IntByReference(n1);\n",
    "        System.out.println(\"Before: \" + a + \" \" + b);\n",
    "        a.swapToLowHighOrder(b);  // conditionally build swap method to change values of a, b\n",
    "        System.out.println(\"After: \" + a + \" \" + b);\n",
    "        System.out.println();\n",
    "    }\n",
    "\n",
    "    public static void main(String[] ags) {\n",
    "        IntByReference.swapper(21, 16);\n",
    "        IntByReference.swapper(16, 21);\n",
    "        IntByReference.swapper(16, -1);\n",
    "    }\n",
    "\n",
    "}\n",
    "IntByReference.main(null);"
   ]
  },
  {
   "cell_type": "markdown",
   "metadata": {},
   "source": [
    "IntByValue: In this approach, the method changeInt(int n) works with a copy of the original primitive value. Even though the value of n is modified within the method, the original value in the caller is not affected because Java passes primitives by value. As a result, changes to n in the method do not persist outside the method.\n",
    "\n",
    "IntByReference: Here, a custom class IntByReference wraps the primitive int value inside an object, making it a reference type. When the method swapToLowHighOrder(IntByReference i) is called, it operates on the original objects, modifying the values inside the objects. This is because reference types (like objects) are passed by reference, meaning the method has access to the actual object in memory, allowing persistent changes to the values."
   ]
  },
  {
   "cell_type": "code",
   "execution_count": null,
   "metadata": {},
   "outputs": [],
   "source": [
    "public class IntByReference {\n",
    "    private int value;\n",
    "\n",
    "    public IntByReference(int value) {\n",
    "        this.value = value;\n",
    "    }\n",
    "\n",
    "    public int getValue() {\n",
    "        return value;\n",
    "    }\n",
    "\n",
    "    public void setValue(int value) {\n",
    "        this.value = value;\n",
    "    }\n",
    "\n",
    "    public static void changeInt(IntByReference ref) {\n",
    "        System.out.println(\"In changeInt method\");\n",
    "        System.out.println(\"\\tBefore ref.value += 10: ref.value = \" + ref.getValue());\n",
    "        ref.setValue(ref.getValue() + 10);\n",
    "        System.out.println(\"\\tAfter ref.value += 10: ref.value = \" + ref.getValue());\n",
    "    }\n",
    "\n",
    "    public static void main(String[] args) {\n",
    "        IntByReference ref = new IntByReference(5);\n",
    "        System.out.println(\"Main method before changeInt(ref): ref.value = \" + ref.getValue());\n",
    "        changeInt(ref);\n",
    "        System.out.println(\"Main method after changeInt(ref): ref.value = \" + ref.getValue());\n",
    "    }\n",
    "}\n",
    "\n",
    "IntByReference.main(null);"
   ]
  }
 ],
 "metadata": {
  "kernelspec": {
   "display_name": "Java",
   "language": "java",
   "name": "java"
  },
  "language_info": {
   "codemirror_mode": "java",
   "file_extension": ".jshell",
   "mimetype": "text/x-java-source",
   "name": "java",
   "pygments_lexer": "java",
   "version": "17.0.12+7-Ubuntu-1ubuntu222.04"
  }
 },
 "nbformat": 4,
 "nbformat_minor": 2
}

{
 "cells": [
  {
   "cell_type": "markdown",
   "metadata": {},
   "source": [
    "---\n",
    "comments: false\n",
    "layout: post\n",
    "title: HTML Hacks\n",
    "courses: { compsci: {week: 2} }\n",
    "type: hacks\n",
    "---"
   ]
  },
  {
   "cell_type": "markdown",
   "metadata": {},
   "source": [
    "<head>\n",
    "    <meta charset=\"UTF-8\">\n",
    "    <meta name=\"viewport\" content=\"width=device-width, initial-scale=1.0\">\n",
    "    <style>\n",
    "        .container {\n",
    "            width: 80%;\n",
    "            margin: 0 auto;\n",
    "            border: 2px solid black;\n",
    "            padding: 10px;\n",
    "        }\n",
    "\n",
    "        p {\n",
    "            border: 2px solid red;\n",
    "            padding: 5px;\n",
    "            text-align: center;\n",
    "            margin-bottom: 10px;\n",
    "        }\n",
    "\n",
    "        button {\n",
    "            border: 2px solid green;\n",
    "            background-color: white;\n",
    "            color: green;\n",
    "            padding: 10px 20px;\n",
    "            font-size: 16px;\n",
    "            display: block;\n",
    "            margin: 10px auto;\n",
    "        }\n",
    "\n",
    "        a {\n",
    "            border: 2px solid blue;\n",
    "            display: block;\n",
    "            padding: 10px;\n",
    "            text-align: center;\n",
    "            text-decoration: none;\n",
    "            color: blue;\n",
    "            margin-bottom: 10px;\n",
    "        }\n",
    "\n",
    "        div.content {\n",
    "            font-weight: bold;\n",
    "            font-size: 24px;\n",
    "            text-align: center;\n",
    "            margin-bottom: 10px;\n",
    "        }\n",
    "    </style>\n",
    "</head>\n",
    "<body>\n",
    "    <div class=\"container\">\n",
    "        <p>Eshaan Kumar CS</p>\n",
    "        <button>Click Here</button>\n",
    "        <div class=\"content\">------</div>\n",
    "    </div>\n",
    "\n",
    "    <div class=\"container\">\n",
    "        <a href=\"#\">https://eshaank1.github.io/csp/</a>\n",
    "        <a href=\"#\">https://eshaank1.github.io/csa/</a>\n",
    "        <div class=\"content\">------</div>\n",
    "        <p>Thanks for looking</p>\n",
    "    </div>\n",
    "</body>\n"
   ]
  },
  {
   "cell_type": "markdown",
   "metadata": {},
   "source": [
    "<style> \n",
    "@import url('https://fonts.googleapis.com/css2?family=Roboto');\n",
    "h1{ text-align: center; font-size: 50px; color: #0352fc; font-family: 'Roboto', serif;}\n",
    "h2{ text-align: left; font-size: 18px; color: #0352fc;}\n",
    "body{ text-align: left; font-size: 15px; font-family: 'Roboto', serif; background: black; }\n",
    "</style>"
   ]
  }
 ],
 "metadata": {
  "language_info": {
   "name": "python"
  }
 },
 "nbformat": 4,
 "nbformat_minor": 2
}
